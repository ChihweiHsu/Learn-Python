{
 "cells": [
  {
   "cell_type": "markdown",
   "metadata": {},
   "source": [
    "作業目標:\n",
    "1. 了解效能優化方法"
   ]
  },
  {
   "cell_type": "markdown",
   "metadata": {},
   "source": [
    "作業重點:\n",
    "1. 優化有很多面相可以切入，目前可以先以投影片方法為主"
   ]
  },
  {
   "attachments": {},
   "cell_type": "markdown",
   "metadata": {},
   "source": [
    "題目 : \n",
    "1. 在速度較慢的時候，可以先從哪邊開始檢查?\n",
    "2. 資料過大時應採取什麼方式讓記憶體占用量下降?"
   ]
  },
  {
   "cell_type": "markdown",
   "metadata": {},
   "source": [
    "### 1.在速度較慢的時候，可以先從哪邊開始檢查?\n",
    "查看使否有使用內建函數，若非得需要用到自己的函式，那盡量使用 agg 會比 transform 來的快速。"
   ]
  },
  {
   "cell_type": "markdown",
   "metadata": {},
   "source": [
    "### 2. 資料過大時應採取什麼方式讓記憶體占用量下降?\n",
    "我們可以將欄位的型態降級，不需要存太多元素在一個數字中。\n",
    "也可以將整數型態 int 改成 uint 減少記憶體正用空間。"
   ]
  }
 ],
 "metadata": {
  "kernelspec": {
   "display_name": "Python 3",
   "language": "python",
   "name": "python3"
  },
  "language_info": {
   "codemirror_mode": {
    "name": "ipython",
    "version": 3
   },
   "file_extension": ".py",
   "mimetype": "text/x-python",
   "name": "python",
   "nbconvert_exporter": "python",
   "pygments_lexer": "ipython3",
   "version": "3.7.4"
  }
 },
 "nbformat": 4,
 "nbformat_minor": 2
}
